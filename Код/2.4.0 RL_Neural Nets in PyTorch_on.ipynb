{
 "cells": [
  {
   "cell_type": "markdown",
   "id": "a5deb437",
   "metadata": {},
   "source": [
    "# Создание ИНС в PyTorch\n",
    "\n",
    "ИНС в `PyTorch` создаётся как лего-конструктор из отдельных блоков. Основные блоки - это слои ИНС. Различные типы слоёв для ИНС хранятся в модуле `torch.nn`.\n",
    "Рассмотрим например полносвязный слой `nn.Linear()`. Для создания этого слоя надо передать как минимум два параметра:\n",
    "    \n",
    "    in_features - размер входных данных,\n",
    "    out_features - размер данных на выходе.\n",
    "\n",
    "Этот слой осуществляет линейное преобразование входного вектора $x$ следующим образом: \n",
    "$ y = x A^T + b$. \n",
    "Матрица $A$ имеет размер (`out_features` $\\times$ `in_features`), вектор $b$ имеет длину `out_features`.\n",
    "\n",
    "Параметры слоя - это\n",
    "\n",
    "* веса (weights): элементы матрицы $A$,\n",
    "* смещения (bias): вектор $b$.\n",
    "\n",
    "Для созданного слоя `layer` к его весам можно обратиться командой `layer.weight`, \n",
    "к смещениям можно обратиться командой `layer.bias`. \n",
    "\n",
    "Иницализация параметров по умолчанию осуществляется с помощью равномерно распределённой на отрезке $[-\\sqrt{k}, \\sqrt{k}]$ случайной величины, где $k = \\frac 1{in\\_features}$."
   ]
  },
  {
   "cell_type": "code",
   "execution_count": 1,
   "id": "73566608",
   "metadata": {},
   "outputs": [
    {
     "name": "stdout",
     "output_type": "stream",
     "text": [
      "Веса:  Parameter containing:\n",
      "tensor([[-0.2102, -0.0986,  0.3373, -0.0355,  0.0731],\n",
      "        [ 0.4145, -0.2555,  0.2491,  0.3331,  0.1504],\n",
      "        [-0.3272, -0.1473,  0.4312,  0.2395, -0.3486]], requires_grad=True)\n",
      "Смещения:  Parameter containing:\n",
      "tensor([-0.3532, -0.4100,  0.0162], requires_grad=True)\n"
     ]
    }
   ],
   "source": [
    "import torch\n",
    "from torch import nn\n",
    "\n",
    "layer = nn.Linear(in_features = 5, out_features = 3)\n",
    "\n",
    "print(\"Веса: \", layer.weight)\n",
    "print(\"Смещения: \", layer.bias)"
   ]
  },
  {
   "cell_type": "markdown",
   "id": "e23aac05",
   "metadata": {},
   "source": [
    "Также, для вывода параметров можно использовать метод `layer.parameters()`. Он вернёт некоторый специальный тип данных, но его можно привести к списку с помощью обёртки `list()`."
   ]
  },
  {
   "cell_type": "code",
   "execution_count": 2,
   "id": "eb50554d",
   "metadata": {},
   "outputs": [
    {
     "data": {
      "text/plain": [
       "[Parameter containing:\n",
       " tensor([[ 0.0226, -0.4244, -0.1502, -0.3693,  0.2442],\n",
       "         [ 0.0946, -0.3003, -0.1454,  0.0971,  0.2978],\n",
       "         [ 0.1884, -0.0643, -0.1701, -0.0506, -0.2891]], requires_grad=True),\n",
       " Parameter containing:\n",
       " tensor([ 0.1220,  0.1168, -0.4156], requires_grad=True)]"
      ]
     },
     "execution_count": 2,
     "metadata": {},
     "output_type": "execute_result"
    }
   ],
   "source": [
    "list(layer.parameters())"
   ]
  },
  {
   "cell_type": "markdown",
   "id": "62f12c44",
   "metadata": {},
   "source": [
    "Для того, чтобы применить слой `layer` к вектору входных данных `x`, можно использовать синтаксис\n",
    "    \n",
    "    `layer(x)` \n",
    "    или `layer.forward(x)`.\n",
    "    \n",
    "Слои принимают на вход только тензорный тип данных из `PyTorch`."
   ]
  },
  {
   "cell_type": "code",
   "execution_count": 10,
   "id": "96471999",
   "metadata": {},
   "outputs": [
    {
     "name": "stdout",
     "output_type": "stream",
     "text": [
      "Данные: tensor([0.6949, 0.1188, 0.3328, 0.3920, 0.6835])\n",
      "Результат: tensor([ 0.0595,  0.3401, -0.5663], grad_fn=<ViewBackward0>)\n",
      "Результат: tensor([ 0.0595,  0.3401, -0.5663], grad_fn=<AddBackward0>)\n"
     ]
    }
   ],
   "source": [
    "x = torch.rand(5)\n",
    "print(\"Данные:\", x)\n",
    "\n",
    "y = layer.forward(x)\n",
    "print(\"Результат:\", y)\n",
    "\n",
    "y2 = x @ layer.weight.T + layer.bias\n",
    "print(\"Результат:\", y2)"
   ]
  },
  {
   "cell_type": "markdown",
   "id": "2735c683",
   "metadata": {},
   "source": [
    "Отметим, что слои ИНС в `PyTorch` могут принимать на вход данные сразу пакетом (англ. batch). То есть на вход слоя можно подавать матрицу размера (`batch_size` $\\times$ `in_features`). Результатом будет также матрица размера (`batch_size` $\\times$ `out_features`)."
   ]
  },
  {
   "cell_type": "code",
   "execution_count": 6,
   "id": "14926ac2",
   "metadata": {},
   "outputs": [
    {
     "name": "stdout",
     "output_type": "stream",
     "text": [
      "Размер входных данных: torch.Size([100, 5])\n",
      "Размер выходных данных: torch.Size([100, 3])\n"
     ]
    }
   ],
   "source": [
    "batch_size = 100\n",
    "x = torch.rand(100,5)\n",
    "print(\"Размер входных данных:\", x.shape)\n",
    "\n",
    "y = layer.forward(x)\n",
    "print(\"Размер выходных данных:\", y.shape)"
   ]
  },
  {
   "cell_type": "markdown",
   "id": "69986ee6",
   "metadata": {},
   "source": [
    "В модуле `torch.nn` хранятся также функции активации. Например, функция `nn.ReLU()`. Функции активации применяются поэлементно к входным данным. Синтаксис применения функции активации к входным данным аналогичен применению слоя к входным данным."
   ]
  },
  {
   "cell_type": "code",
   "execution_count": 7,
   "id": "389accc2",
   "metadata": {},
   "outputs": [
    {
     "data": {
      "text/plain": [
       "tensor([0, 0, 1, 0, 3])"
      ]
     },
     "execution_count": 7,
     "metadata": {},
     "output_type": "execute_result"
    }
   ],
   "source": [
    "relu = nn.ReLU()\n",
    "x = torch.tensor([0, -1, 1, -2, 3])\n",
    "relu.forward(x)"
   ]
  },
  {
   "cell_type": "markdown",
   "id": "9f1db264",
   "metadata": {},
   "source": [
    "ИНС является, по сути, композицией различных отображений. В частности, классическая полносвязная ИНС - это чередование линейного слоя и нелинейной функции активации. Для создания ИНС из отдельных слоёв в `PyTorch` можно использовать несколько способов. Простейший способ - это использовать специальный модуль-контейнер `nn.Sequential()`, в котором надо просто перечислить все требуемые слои."
   ]
  },
  {
   "cell_type": "code",
   "execution_count": 5,
   "id": "4cd754dd",
   "metadata": {},
   "outputs": [
    {
     "name": "stdout",
     "output_type": "stream",
     "text": [
      "Sequential(\n",
      "  (0): Linear(in_features=4, out_features=8, bias=True)\n",
      "  (1): ReLU()\n",
      "  (2): Linear(in_features=8, out_features=8, bias=True)\n",
      "  (3): ReLU()\n",
      "  (4): Linear(in_features=8, out_features=1, bias=True)\n",
      ")\n"
     ]
    }
   ],
   "source": [
    "in_features = 4\n",
    "out_features = 1\n",
    "\n",
    "ann = nn.Sequential(\n",
    "        nn.Linear(in_features, 8),\n",
    "        nn.ReLU(),\n",
    "        nn.Linear(8, 8),\n",
    "        nn.ReLU(),\n",
    "        nn.Linear(8, out_features)\n",
    "        )\n",
    "\n",
    "# вывод основной информации об ИНС\n",
    "print(ann)"
   ]
  },
  {
   "cell_type": "markdown",
   "id": "4cffc452",
   "metadata": {},
   "source": [
    "Обращаться к слоям сети можно по индексу (как к элементу массива). В частности, для получения весов первого слоя можно использовать команду `ann[0].weight`"
   ]
  },
  {
   "cell_type": "code",
   "execution_count": 14,
   "id": "473c01d3",
   "metadata": {},
   "outputs": [
    {
     "data": {
      "text/plain": [
       "Parameter containing:\n",
       "tensor([[-0.4390,  0.2929, -0.4302, -0.1214],\n",
       "        [-0.3085, -0.3383,  0.4258, -0.1574],\n",
       "        [-0.3475,  0.2643, -0.1903, -0.0371],\n",
       "        [-0.1719, -0.0998,  0.4556,  0.1096],\n",
       "        [-0.2500, -0.1032, -0.0325, -0.0904],\n",
       "        [ 0.3166,  0.1156,  0.3983,  0.4378],\n",
       "        [ 0.1745,  0.4188,  0.4564,  0.0714],\n",
       "        [ 0.1348, -0.3269, -0.0701, -0.3599]], requires_grad=True)"
      ]
     },
     "execution_count": 14,
     "metadata": {},
     "output_type": "execute_result"
    }
   ],
   "source": [
    "ann[0].weight"
   ]
  },
  {
   "cell_type": "markdown",
   "id": "3c438947-318d-46e7-832f-180b95d9dd08",
   "metadata": {},
   "source": [
    "Второй способ создать ИНС в `PyTorch` - это создать наследник класса `nn.Module`."
   ]
  },
  {
   "cell_type": "code",
   "execution_count": 4,
   "id": "62e3bc91-7e28-4dce-9bfe-e8a8f499b12d",
   "metadata": {},
   "outputs": [],
   "source": [
    "import torch.nn.functional as F\n",
    "\n",
    "class NNetwork(nn.Module):\n",
    "    def __init__(self, input_size, output_size):\n",
    "        super(NNetwork, self).__init__()\n",
    "        self.fc1 = nn.Linear(input_size, 8)\n",
    "        self.fc2 = nn.Linear(8, 8)\n",
    "        self.fc3 = nn.Linear(8, output_size)\n",
    "        \n",
    "    def forward(self, input):\n",
    "        x = self.fc1(input)\n",
    "        x = F.relu(x)\n",
    "        x = self.fc2(x)\n",
    "        x = F.relu(x)\n",
    "        return self.fc3(x)\n",
    "\n",
    "ann2 = NNetwork(4,1)"
   ]
  },
  {
   "cell_type": "markdown",
   "id": "8934035c",
   "metadata": {},
   "source": [
    "Ниже примеры вычисления отклика сети на входной вектор и на пакет входных векторов."
   ]
  },
  {
   "cell_type": "code",
   "execution_count": 6,
   "id": "fcd3d571",
   "metadata": {},
   "outputs": [
    {
     "name": "stdout",
     "output_type": "stream",
     "text": [
      "Данные: tensor([0.3112, 0.9007, 0.4968, 0.6773])\n",
      "Результат: tensor([-0.3817], grad_fn=<ViewBackward0>)\n",
      "Результат: tensor([0.1484], grad_fn=<ViewBackward0>)\n"
     ]
    }
   ],
   "source": [
    "x = torch.rand(in_features)\n",
    "print(\"Данные:\", x)\n",
    "\n",
    "y = ann.forward(x)\n",
    "print(\"Результат:\", y)\n",
    "\n",
    "y = ann2.forward(x)\n",
    "print(\"Результат:\", y)"
   ]
  },
  {
   "cell_type": "code",
   "execution_count": 8,
   "id": "311f6539",
   "metadata": {},
   "outputs": [
    {
     "name": "stdout",
     "output_type": "stream",
     "text": [
      "Данные: tensor([[0.8673, 0.0396, 0.3158, 0.9242],\n",
      "        [0.6781, 0.9382, 0.8940, 0.4603],\n",
      "        [0.9246, 0.4166, 0.7239, 0.8409],\n",
      "        [0.5042, 0.9965, 0.8169, 0.7674],\n",
      "        [0.9934, 0.9722, 0.0372, 0.5351],\n",
      "        [0.8827, 0.6769, 0.7931, 0.6872],\n",
      "        [0.4775, 0.8063, 0.0073, 0.9818],\n",
      "        [0.3992, 0.3725, 0.1247, 0.2935],\n",
      "        [0.9307, 0.8983, 0.7978, 0.6026],\n",
      "        [0.7054, 0.8740, 0.3799, 0.1312]])\n",
      "Результат: tensor([[-0.3408],\n",
      "        [-0.3654],\n",
      "        [-0.3796],\n",
      "        [-0.4123],\n",
      "        [-0.2987],\n",
      "        [-0.3731],\n",
      "        [-0.3298],\n",
      "        [-0.2867],\n",
      "        [-0.3634],\n",
      "        [-0.2908]], grad_fn=<AddmmBackward0>)\n",
      "Результат: tensor([[0.2108],\n",
      "        [0.1620],\n",
      "        [0.2012],\n",
      "        [0.1516],\n",
      "        [0.1099],\n",
      "        [0.1804],\n",
      "        [0.1346],\n",
      "        [0.1849],\n",
      "        [0.1598],\n",
      "        [0.1479]], grad_fn=<AddmmBackward0>)\n"
     ]
    }
   ],
   "source": [
    "batch_size = 10\n",
    "x = torch.rand(batch_size,in_features)\n",
    "print(\"Данные:\", x)\n",
    "\n",
    "y = ann.forward(x)\n",
    "print(\"Результат:\", y)\n",
    "\n",
    "y = ann2.forward(x)\n",
    "print(\"Результат:\", y)"
   ]
  },
  {
   "cell_type": "markdown",
   "id": "ff93215a",
   "metadata": {},
   "source": [
    "## Обучение ИНС в PyTorch\n",
    "\n",
    "Рассмотрим некоторую ИНС. Для её обучения на некотором набор входных данных надо сравнить результат работы ИНС с истинными ответами на наборе входных данных. Чтобы оценить насколько далеки ответы ИНС от истинных, существует множество различных метрик, которые называют функциями ошибки (англ. loss functions). \n",
    "\n",
    "Простейшая функция ошибки - это среднеквадратичная ошибка (англ. MSE).\n",
    "\n",
    "Пусть $X$ пакет входных данных, то есть матрица размера (`batch_size` $\\times$ `in_features`), $Y$ массив выходных данных, то есть матрица размера (`batch_size` $\\times$ `out_features`). Пусть $\\varphi$ наша ИНС. Результат работы ИНС обозначим\n",
    "\n",
    "$\\widehat Y = \\varphi(X).$\n",
    "\n",
    "Ответы ИНС $\\widehat Y$ также представляют собой матрицу размера (`batch_size` $\\times$ `out_features`). Тогда среднеквадратичная ошибка имеет вид:\n",
    "\n",
    "$$ MSE(Y,\\widehat Y) = \\frac{1}{batch\\_size} \\sum_{i=1}^{batch\\_size} \\left\\|Y_i - \\widehat Y_i \\right\\|^2,$$\n",
    "\n",
    "где $Y_i, \\widehat Y_i$ строки в соответствующих массивах.\n",
    "\n",
    "В модуле `torch.nn` среднеквадратичная ошибка реализована методом `MSELoss()`.\n",
    "\n",
    "Сформируем сеть, набор данных и найдём ошибку ИНС на данных."
   ]
  },
  {
   "cell_type": "code",
   "execution_count": 2,
   "id": "58ce70a3",
   "metadata": {},
   "outputs": [
    {
     "name": "stdout",
     "output_type": "stream",
     "text": [
      "tensor(0.4314, grad_fn=<MseLossBackward0>)\n"
     ]
    }
   ],
   "source": [
    "import torch.nn.functional as F\n",
    "\n",
    "in_features = 4\n",
    "out_features = 2\n",
    "batch_size = 10\n",
    "\n",
    "ann = nn.Sequential(\n",
    "        nn.Linear(in_features, 8),\n",
    "        nn.ReLU(),\n",
    "        nn.Linear(8, 16),\n",
    "        nn.ReLU(),\n",
    "        nn.Linear(16, out_features)\n",
    "        )\n",
    "\n",
    "# Создание каких-то данных\n",
    "X = torch.rand(batch_size,in_features)\n",
    "Y_true = torch.rand(batch_size,out_features)\n",
    "\n",
    "Y_hat = ann(X)\n",
    "\n",
    "loss = F.mse_loss(Y_hat, Y_true)\n",
    "print(loss)"
   ]
  },
  {
   "cell_type": "markdown",
   "id": "c2cc6515",
   "metadata": {},
   "source": [
    "Для обучения сети требуется сдвинуть параметры ИНС в сторону анти-градиента на малый шаг, размер шага контроллируется параметром `learning_rate`, называемого шагом обучения. Формула обновления параметров имеет вид:\n",
    "\n",
    "    parameters = parameters - learning_rate * gradient\n",
    "    \n",
    "где `gradient` - это вектор градиента функции ошибки `loss` по параметрам ИНС, `parameters` - это вектор всех параметров ИНС.\n",
    "\n",
    "Нахождение градиента функции ошибки по всем параметрам для текущих входных данных делаются в `PyTorch` автоматически.\n",
    "\n",
    "При вычислении ответа ИНС на входные данные специальный модуль Autograd запоминает сделанные операции и может найти необходимые градиенты для осуществления шага градиентного спуска. Для вычисления необходимых градиентов надо у результата работы функции ошибки, то есть у переменной `loss`, вызвать метод `loss.backwards()`.\n",
    "\n",
    "Важно также отметить, что до вызова метода `loss.backwards()` необходимо обнулять градиенты вызовом метода `ann.zero_grad()` у созданной ИНС. Если этого не делать, то значения градиентов будут накапливаться после каждого вызова метода, вычисляющего отклик ИНС."
   ]
  },
  {
   "cell_type": "code",
   "execution_count": 3,
   "id": "7e990015",
   "metadata": {},
   "outputs": [],
   "source": [
    "# Проведём шаг вычисления градиентов\n",
    "ann.zero_grad()\n",
    "loss.backward()"
   ]
  },
  {
   "cell_type": "markdown",
   "id": "bea007cb",
   "metadata": {},
   "source": [
    "Посмотреть на вычисленные градиенты для параметров того или иного слоя можно следующим образом:"
   ]
  },
  {
   "cell_type": "code",
   "execution_count": 4,
   "id": "60013dd2",
   "metadata": {},
   "outputs": [
    {
     "data": {
      "text/plain": [
       "tensor([[ 0.0658,  0.0865,  0.0771,  0.0725],\n",
       "        [-0.0162, -0.0145, -0.0178, -0.0174],\n",
       "        [-0.0198, -0.0251, -0.0147, -0.0204],\n",
       "        [-0.0049, -0.0106, -0.0068, -0.0057],\n",
       "        [ 0.0000,  0.0000,  0.0000,  0.0000],\n",
       "        [ 0.0509,  0.0764,  0.0526,  0.0544],\n",
       "        [-0.0690, -0.0949, -0.0843, -0.0753],\n",
       "        [-0.0003, -0.0068, -0.0045, -0.0015]])"
      ]
     },
     "execution_count": 4,
     "metadata": {},
     "output_type": "execute_result"
    }
   ],
   "source": [
    "ann[0].weight.grad"
   ]
  },
  {
   "cell_type": "markdown",
   "id": "1906a8fe",
   "metadata": {},
   "source": [
    "Проведём на простом примере демонстрацию того, что градиенты действительно считаются какие нужно. И отметим также на примере, что будет, если не обнулить градиенты.\n",
    "\n",
    "Рассмотрим полносвязный слой с 4 входами и 1 выходом:\n",
    "\n",
    "$$ \\widehat y = w_1 x_1 + ... + w_4 x_4 + b.$$\n",
    "\n",
    "Пусть $y=0$. Тогда MSE имеет вид $$ loss = (\\widehat y-0)^2.$$\n",
    "Значит градиент по весам имеет вид $$grad_w (loss) = 2 \\widehat y (x_1,...,x_4) .$$\n",
    "Вычислим градиент вызовом метода `loss.backward()` и найдём градиент напрямую по формуле."
   ]
  },
  {
   "cell_type": "code",
   "execution_count": 5,
   "id": "245fc9f6",
   "metadata": {},
   "outputs": [
    {
     "data": {
      "text/plain": [
       "tensor([[-0.1315]], grad_fn=<AddmmBackward0>)"
      ]
     },
     "execution_count": 5,
     "metadata": {},
     "output_type": "execute_result"
    }
   ],
   "source": [
    "test_layer = nn.Linear(4,1)\n",
    "\n",
    "X = torch.rand(1,4)\n",
    "Y_true = torch.tensor([[0.0]])\n",
    "Y_hat = test_layer(X)\n",
    "Y_hat"
   ]
  },
  {
   "cell_type": "code",
   "execution_count": 6,
   "id": "dc6dbfa1",
   "metadata": {},
   "outputs": [
    {
     "name": "stdout",
     "output_type": "stream",
     "text": [
      "Функция ошибки по MSELoss(): tensor(0.0173, grad_fn=<MseLossBackward0>)\n",
      "Функция ошибки по формуле:  tensor([[0.0173]], grad_fn=<PowBackward0>)\n"
     ]
    }
   ],
   "source": [
    "loss = F.mse_loss(Y_hat, Y_true)\n",
    "print(\"Функция ошибки по MSELoss():\", loss)\n",
    "print(\"Функция ошибки по формуле: \", Y_hat ** 2)"
   ]
  },
  {
   "cell_type": "code",
   "execution_count": 7,
   "id": "1a157fbe",
   "metadata": {},
   "outputs": [
    {
     "name": "stdout",
     "output_type": "stream",
     "text": [
      "Градиент по Autograd: tensor([[-0.1143, -0.2443, -0.2454, -0.1191]])\n",
      "Градиент по формуле: tensor([[-0.1143, -0.2443, -0.2454, -0.1191]], grad_fn=<MulBackward0>)\n"
     ]
    }
   ],
   "source": [
    "test_layer.zero_grad()\n",
    "loss.backward()\n",
    "\n",
    "print('Градиент по Autograd:', test_layer.weight.grad)\n",
    "print('Градиент по формуле:', X * Y_hat * 2)"
   ]
  },
  {
   "cell_type": "markdown",
   "id": "b2cd034b",
   "metadata": {},
   "source": [
    "Далее, запомним градиент и найдём loss для новых входных данных.\n",
    "И вычислим градиенты по Autograd без их обнуления. Получим сумму градиентов по новым и старым данным."
   ]
  },
  {
   "cell_type": "code",
   "execution_count": 8,
   "id": "579ee426",
   "metadata": {},
   "outputs": [
    {
     "name": "stdout",
     "output_type": "stream",
     "text": [
      "tensor(0.1064, grad_fn=<MseLossBackward0>)\n"
     ]
    }
   ],
   "source": [
    "# Получение старых градиентов, перевод в NumPy и копирование значений\n",
    "old_grads = test_layer.weight.grad.numpy().copy()\n",
    "\n",
    "X = torch.rand(1,4)\n",
    "Y_true = torch.tensor([[0.0]])\n",
    "Y_hat = test_layer(X)\n",
    "\n",
    "loss = F.mse_loss(Y_hat, Y_true)\n",
    "print(loss)"
   ]
  },
  {
   "cell_type": "code",
   "execution_count": 9,
   "id": "6c3be524",
   "metadata": {},
   "outputs": [
    {
     "name": "stdout",
     "output_type": "stream",
     "text": [
      "Градиент по Autograd: tensor([[-0.2250, -0.3023, -0.8790, -0.2526]])\n",
      "Градиент по формуле: tensor([[-0.1107, -0.0580, -0.6336, -0.1335]], grad_fn=<MulBackward0>)\n"
     ]
    }
   ],
   "source": [
    "loss.backward()\n",
    "\n",
    "print('Градиент по Autograd:', test_layer.weight.grad)\n",
    "print('Градиент по формуле:', X * Y_hat * 2)"
   ]
  },
  {
   "cell_type": "code",
   "execution_count": 10,
   "id": "355f738d",
   "metadata": {},
   "outputs": [
    {
     "name": "stdout",
     "output_type": "stream",
     "text": [
      "Сумма градиентов по старым и новым данным: tensor([[-0.2250, -0.3023, -0.8790, -0.2526]], grad_fn=<AddBackward0>)\n"
     ]
    }
   ],
   "source": [
    "print('Сумма градиентов по старым и новым данным:', torch.tensor(old_grads) + X * Y_hat * 2)"
   ]
  },
  {
   "cell_type": "markdown",
   "id": "1b461eef",
   "metadata": {},
   "source": [
    "Действительно, градиент, вычисленный с помощью Autograd является суммой градиентов от двух векторов данных."
   ]
  },
  {
   "cell_type": "markdown",
   "id": "8ea0d226",
   "metadata": {},
   "source": [
    "Далее, требуется сделать шаг градиентного спуска. \n",
    "Один шаг метода можно сделать непосредственным образом, реализовав формулу: \n",
    "\n",
    "    parameters = parameters - learning_rate * gradient"
   ]
  },
  {
   "cell_type": "code",
   "execution_count": 18,
   "id": "08a81e5f",
   "metadata": {},
   "outputs": [],
   "source": [
    "test_layer = nn.Linear(4,1)\n",
    "\n",
    "X = torch.rand(1,4)\n",
    "Y_true = torch.tensor([[0.0]])\n",
    "Y_hat = test_layer(X)\n",
    "\n",
    "loss = F.mse_loss(Y_hat, Y_true)\n",
    "test_layer.zero_grad()\n",
    "loss.backward()"
   ]
  },
  {
   "cell_type": "code",
   "execution_count": 19,
   "id": "d2b0cd71",
   "metadata": {},
   "outputs": [
    {
     "name": "stdout",
     "output_type": "stream",
     "text": [
      "Параметры слоя: tensor([[-0.1965, -0.1889, -0.0751, -0.0140]])\n",
      "Градиент по параметрам слоя: tensor([[0.1976, 0.1843, 0.0508, 0.0900]])\n",
      "Обновлённые параметры: tensor([[-0.3941, -0.3732, -0.1259, -0.1040]]) \n",
      "\n",
      "Параметры слоя: tensor([0.4398])\n",
      "Градиент по параметрам слоя: tensor([0.2501])\n",
      "Обновлённые параметры: tensor([0.1897]) \n",
      "\n"
     ]
    }
   ],
   "source": [
    "learning_rate = 1.0\n",
    "for layer_params in test_layer.parameters():\n",
    "    print('Параметры слоя:', layer_params.data)\n",
    "    print('Градиент по параметрам слоя:', layer_params.grad.data)\n",
    "    print('Обновлённые параметры:', layer_params.data - learning_rate * layer_params.grad.data, '\\n')"
   ]
  },
  {
   "cell_type": "markdown",
   "id": "f9ecfc70",
   "metadata": {},
   "source": [
    "В данном случае слой один, и мы провели обновления для весов и смещений.\n",
    "\n",
    "Сущестует множество различных модификаций метода градиентного спуска. В `PyTorch` многие методы реализованы, их называют оптимизаторами и они хранятся в модуле `torch.optim`. Классический градиентный спуск - это метод `torch.optim.SGD()`. \n",
    "\n",
    "Сравним результат работы оптимизатора и результат обновления весов в ручную.\n",
    "Сначала приведём код для обновления вручную."
   ]
  },
  {
   "cell_type": "code",
   "execution_count": 27,
   "id": "7d6940e1",
   "metadata": {},
   "outputs": [],
   "source": [
    "# Фиксируем набор данных\n",
    "X = torch.rand(1,4)\n",
    "Y_true = torch.tensor([[0.0]])"
   ]
  },
  {
   "cell_type": "code",
   "execution_count": 28,
   "id": "7fbf8e43",
   "metadata": {},
   "outputs": [
    {
     "name": "stdout",
     "output_type": "stream",
     "text": [
      "Начальные параметры слоя: [Parameter containing:\n",
      "tensor([[ 0.1000, -0.2000,  0.3000, -0.4000]], requires_grad=True), Parameter containing:\n",
      "tensor([[1.]], requires_grad=True)]\n"
     ]
    }
   ],
   "source": [
    "# создаём сеть с заданными параметрами\n",
    "test_layer = nn.Linear(4,1)\n",
    "\n",
    "test_layer.weight.data = torch.tensor([[0.1, -0.2,  0.3, -0.4]])\n",
    "test_layer.bias.data = torch.tensor([[1.0]])\n",
    "\n",
    "print('Начальные параметры слоя:', list(test_layer.parameters()))"
   ]
  },
  {
   "cell_type": "code",
   "execution_count": 29,
   "id": "7e696fa9",
   "metadata": {},
   "outputs": [
    {
     "name": "stdout",
     "output_type": "stream",
     "text": [
      "Обновлённые параметры слоя: [Parameter containing:\n",
      "tensor([[-0.2157, -1.8006, -0.3026, -0.7443]], requires_grad=True), Parameter containing:\n",
      "tensor([[-0.7135]], requires_grad=True)]\n"
     ]
    }
   ],
   "source": [
    "# найти функцию ошибку на данных\n",
    "Y_hat = test_layer(X)\n",
    "loss = F.mse_loss(Y_hat, Y_true)\n",
    "\n",
    "# обнулить и вычислить градиенты для параметров\n",
    "test_layer.zero_grad()\n",
    "loss.backward()\n",
    "\n",
    "# шаг градиентного спуска, реализованный вручную\n",
    "learning_rate = 1.0\n",
    "for layer_params in test_layer.parameters():\n",
    "    layer_params.data = layer_params.data - learning_rate * layer_params.grad.data\n",
    "    #Тоже самое с вычисление in-place\n",
    "    #layer_params.data.sub_(layer_params.grad.data * learning_rate)\n",
    "    \n",
    "print('Обновлённые параметры слоя:', list(test_layer.parameters()))"
   ]
  },
  {
   "cell_type": "markdown",
   "id": "59baa481",
   "metadata": {},
   "source": [
    "Теперь создадим аналогичный слой и обновим параметры с помощью оптимизатора."
   ]
  },
  {
   "cell_type": "code",
   "execution_count": 30,
   "id": "344aac68",
   "metadata": {},
   "outputs": [
    {
     "name": "stdout",
     "output_type": "stream",
     "text": [
      "Начальные параметры слоя: [Parameter containing:\n",
      "tensor([[ 0.1000, -0.2000,  0.3000, -0.4000]], requires_grad=True), Parameter containing:\n",
      "tensor([[1.]], requires_grad=True)]\n"
     ]
    }
   ],
   "source": [
    "import torch.optim as optim\n",
    "\n",
    "test_layer2 = nn.Linear(4,1)\n",
    "\n",
    "test_layer2.weight.data = torch.tensor([[0.1, -0.2,  0.3, -0.4]])\n",
    "test_layer2.bias.data = torch.tensor([[1.0]])\n",
    "\n",
    "print('Начальные параметры слоя:', list(test_layer2.parameters()))"
   ]
  },
  {
   "cell_type": "code",
   "execution_count": 31,
   "id": "0909215f",
   "metadata": {},
   "outputs": [
    {
     "name": "stdout",
     "output_type": "stream",
     "text": [
      "tensor(0.7340, grad_fn=<MseLossBackward0>)\n",
      "Обновлённые параметры слоя: [Parameter containing:\n",
      "tensor([[-0.2157, -1.8006, -0.3026, -0.7443]], requires_grad=True), Parameter containing:\n",
      "tensor([[-0.7135]], requires_grad=True)]\n"
     ]
    }
   ],
   "source": [
    "# создать экземпляр оптимизатора для нашей сети\n",
    "optimizer = optim.SGD(test_layer2.parameters(), lr=1.0)\n",
    "\n",
    "# найти функцию ошибку на данных\n",
    "Y_hat = test_layer2(X)\n",
    "loss = F.mse_loss(Y_hat, Y_true)\n",
    "print(loss)\n",
    "\n",
    "# обнулить и вычислить градиенты для параметров\n",
    "test_layer2.zero_grad()\n",
    "# можно также писать optimizer.zero_grad()\n",
    "loss.backward()\n",
    "\n",
    "# шаг градиентного спуска\n",
    "optimizer.step()    \n",
    "\n",
    "print('Обновлённые параметры слоя:', list(test_layer2.parameters()))"
   ]
  },
  {
   "cell_type": "markdown",
   "id": "8df56761",
   "metadata": {},
   "source": [
    "Как ясно из примеров, обновлённые параметры для двух способов вычисления совпадают."
   ]
  },
  {
   "cell_type": "markdown",
   "id": "efb11423",
   "metadata": {},
   "source": [
    "## Итоговый код для обучения ИНС\n",
    "\n",
    "Приведём общий код для обучения ИНС."
   ]
  },
  {
   "cell_type": "code",
   "execution_count": 16,
   "id": "9c59b2ae",
   "metadata": {},
   "outputs": [
    {
     "name": "stdout",
     "output_type": "stream",
     "text": [
      "Sequential(\n",
      "  (0): Linear(in_features=7, out_features=12, bias=True)\n",
      "  (1): ReLU()\n",
      "  (2): Linear(in_features=12, out_features=8, bias=True)\n",
      "  (3): ReLU()\n",
      "  (4): Linear(in_features=8, out_features=1, bias=True)\n",
      ")\n",
      "Значение ошибки 0.08346933871507645\n"
     ]
    }
   ],
   "source": [
    "import numpy as np\n",
    "import torch\n",
    "import torch.nn as nn\n",
    "import torch.nn.functional as F\n",
    "import torch.optim as optim\n",
    "\n",
    "# Генерация данных для обучения\n",
    "X_train= torch.rand(1000,7)\n",
    "Y_train = torch.rand(1000,1)\n",
    " \n",
    "# Создание ИНС\n",
    "model = nn.Sequential(\n",
    "    nn.Linear(7, 12),\n",
    "    nn.ReLU(),\n",
    "    nn.Linear(12, 8),\n",
    "    nn.ReLU(),\n",
    "    nn.Linear(8, 1),\n",
    ")\n",
    "print(model)\n",
    " \n",
    "# Задание оптимизатора\n",
    "optimizer = optim.SGD(model.parameters(), lr=0.0001)\n",
    " \n",
    "# Число эпох обучения и размер батча для обучения ИНС\n",
    "n_epochs = 100\n",
    "batch_size = 10\n",
    "\n",
    "all_errors = []\n",
    "\n",
    "# обучение\n",
    "for epoch in range(n_epochs):\n",
    "    for i in range(0, len(X_train), batch_size):\n",
    "        # формирование предсказаний модели\n",
    "        X_batch = X_train[i:i+batch_size]\n",
    "        Y_pred = model(X_batch)\n",
    "        Y_batch = Y_train[i:i+batch_size]\n",
    "        # вычисление ошибки\n",
    "        loss = loss_fn(Y_pred, Y_batch)\n",
    "        all_errors.append(loss.data.numpy())\n",
    "        # обнуление градиентов и их вычисление\n",
    "        model.zero_grad()\n",
    "        loss.backward()\n",
    "        # шаг градиентного спуска\n",
    "        optimizer.step()\n",
    "        \n",
    "#Итоговая ошибка\n",
    "Y_pred = model(X_train)\n",
    "loss = F.mse_loss(Y_pred, Y_train)\n",
    "print(f\"Значение ошибки {loss}\")\n"
   ]
  },
  {
   "cell_type": "code",
   "execution_count": 17,
   "id": "f2e03298",
   "metadata": {},
   "outputs": [
    {
     "data": {
      "text/plain": [
       "[<matplotlib.lines.Line2D at 0x2583ad49590>]"
      ]
     },
     "execution_count": 17,
     "metadata": {},
     "output_type": "execute_result"
    },
    {
     "data": {
      "image/png": "[encoded data removed]",
      "text/plain": [
       "<Figure size 640x480 with 1 Axes>"
      ]
     },
     "metadata": {},
     "output_type": "display_data"
    }
   ],
   "source": [
    "# для того, чтобы избежать ошибок при построении графиков\n",
    "import os\n",
    "os.environ[\"KMP_DUPLICATE_LIB_OK\"]=\"TRUE\"\n",
    "\n",
    "import matplotlib.pyplot as plt\n",
    "plt.plot(all_errors)"
   ]
  },
  {
   "cell_type": "markdown",
   "id": "7a047db4",
   "metadata": {},
   "source": [
    "### Ещё одна особенность\n",
    "\n",
    "При DQN с буфером памяти взаимодействие со средой и обучение ИНС два разных процесса. В ходе взаимодействия надо будет вычислять значения Q-функции с помощью ИНС, чтобы выбрать следующее действие. В PyTorch по умолчанию вычисление каждого отклика ИНС сопровождается нахождением сооветствующих градиентов. При выборе действия нам это вычисление градиентов не требуется. Чтобы указать это, используется следующие синтаксис"
   ]
  },
  {
   "cell_type": "code",
   "execution_count": null,
   "id": "224dd65c",
   "metadata": {},
   "outputs": [],
   "source": [
    "# вычисляем отклик ИНС без обучения\n",
    "with torch.no_grad():\n",
    "    q_values = model(state)"
   ]
  },
  {
   "cell_type": "markdown",
   "id": "50161b2a",
   "metadata": {},
   "source": [
    "Строка `torch.no_grad()` указывает PyTorch, что при вычислениях с такой обёрткой можно не следить за градиентами. \n",
    "Кроме того, для улучшения сходимости ИНС используются такие дополнительные методы для отдельных слоёв, как Dropout, BatchNormalization. Эти методы ведут себя по-разному при обучении сети и при просто вычислении отклика.\n",
    "Чтобы перевести ИНС в состояние только для вычисления отклика используется синтаксис\n",
    "`model.eval()`. \n",
    "Обратно вернуть сеть в состояние для обучения можно строкой `model.train()`. "
   ]
  },
  {
   "cell_type": "code",
   "execution_count": null,
   "id": "52f61980",
   "metadata": {},
   "outputs": [],
   "source": [
    "# вычисляем отклик ИНС без обучения, без Dropout, BatchNormalization.\n",
    "model.eval()  \n",
    "with torch.no_grad():\n",
    "    q_values = model(state)\n",
    "model.train()"
   ]
  },
  {
   "cell_type": "markdown",
   "id": "d3f774c6-a593-494f-b068-79eee175171f",
   "metadata": {},
   "source": [
    "### Получение вектора вероятностей на выходе ИНС\n",
    "\n",
    "Ряд методов, изучаемых далее, основан на построении стратегии, то есть функции $\\pi(a|s)$. Эта функция будет приближаться ИНС, на вход она принимает состояния, а на выходе выдает вектор вероятностей. В `PyTorch` удобно вместо вектора вероятностей $(\\pi(a_1|s),...,\\pi(a_n|s))$ возвращать специальный класс, который реализует категориальное распределение.\n",
    "\n",
    "Итак, пусть ИНС возвращает после последнего слоя вектор значений. Для перевода этого вектора в вектор вероятностей (такой что большим значениям соответствуют большие вероятности, а меньшим значениям - меньшие вероятности) к последнему слою ИНС применим функцию активации в виде softmax()."
   ]
  },
  {
   "cell_type": "code",
   "execution_count": 3,
   "id": "b409a210-2a48-4be9-949d-341a9e40a93e",
   "metadata": {},
   "outputs": [
    {
     "data": {
      "text/plain": [
       "tensor([[1.1850e-01, 5.8998e-03, 8.7560e-01],\n",
       "        [9.1105e-04, 6.1386e-06, 9.9908e-01]])"
      ]
     },
     "execution_count": 3,
     "metadata": {},
     "output_type": "execute_result"
    }
   ],
   "source": [
    "import torch\n",
    "import torch.nn.functional as F\n",
    "\n",
    "x = torch.Tensor([[1, -2, 3],[-5,-10,2]])\n",
    "# примение softmax() к строкам (вдоль последней размерности)\n",
    "x = F.softmax(x, dim=-1)\n",
    "x"
   ]
  },
  {
   "cell_type": "markdown",
   "id": "175df78a-0bdd-4837-9e2b-f22e2c6f3742",
   "metadata": {},
   "source": [
    "По полученному после softmax() вектору вероятностей надо создать экземпляр класс `Categorical`, он и будет реализацией категориального распределения. Чтобы сделать выборку по этому распределению можно использовать метод `Categorical.sample()`."
   ]
  },
  {
   "cell_type": "code",
   "execution_count": 4,
   "id": "e5d777ff-6d2d-4287-b907-cb92c9670143",
   "metadata": {},
   "outputs": [
    {
     "name": "stdout",
     "output_type": "stream",
     "text": [
      "Вектор вероятностей: tensor([0.1185, 0.0059, 0.8756])\n",
      "tensor(0)\n",
      "tensor(2)\n",
      "tensor(2)\n",
      "tensor(2)\n",
      "tensor(2)\n",
      "tensor(2)\n",
      "tensor(2)\n",
      "tensor(2)\n",
      "tensor(2)\n",
      "tensor(2)\n"
     ]
    }
   ],
   "source": [
    "from torch.distributions import Categorical\n",
    "\n",
    "x = torch.Tensor([1, -2, 3])\n",
    "print(\"Вектор вероятностей:\", F.softmax(x, dim=-1))\n",
    "prob_distribution = Categorical(F.softmax(x, dim=-1))\n",
    "for i in range(10):\n",
    "    print(prob_distribution.sample())"
   ]
  },
  {
   "cell_type": "markdown",
   "id": "3fb6a0de-2d35-495a-be15-eaa05ccc4ff0",
   "metadata": {},
   "source": [
    "Чтобы из созданного экземпляра класса `Categorical` получить вектор вероятностей, можно использовать команду:\n",
    "\n",
    "    prob_distribution.probs\n",
    "\n",
    "Для получения вектора логарифмов вероятностей надо использовать команду:\n",
    "\n",
    "    prob_distribution.logits\n",
    "\n",
    "Более того, дальнейшие методы потребуют по сделанной выборке из распределения `prob_distribution` определить соответствующие логарифм вероятности. Для этого можно использовать команду \n",
    "\n",
    "    prob_distribution.log_prob(prob_distribution.sample())"
   ]
  },
  {
   "cell_type": "code",
   "execution_count": 66,
   "id": "7f204f07-2944-40d4-a4f8-59a901faaf07",
   "metadata": {},
   "outputs": [
    {
     "name": "stdout",
     "output_type": "stream",
     "text": [
      "Вероятности: tensor([0.1185, 0.0059, 0.8756])\n",
      "Лог-вероятности: tensor([-2.1328, -5.1328, -0.1328])\n",
      "Выборка: tensor(0)\n",
      "Лог-вероятность по сделанной выборке: tensor(-2.1328)\n"
     ]
    }
   ],
   "source": [
    "print(\"Вероятности:\", prob_distribution.probs)\n",
    "print(\"Лог-вероятности:\", prob_distribution.logits)\n",
    "sample = prob_distribution.sample()\n",
    "print(\"Выборка:\", sample)\n",
    "print(\"Лог-вероятность по сделанной выборке:\", prob_distribution.log_prob(sample))"
   ]
  },
  {
   "cell_type": "markdown",
   "id": "9984ad62-662e-450f-8f68-6cdd3a57c734",
   "metadata": {},
   "source": [
    "Удобство этого синтаксиса в том, что лог-вероятности будут участвовать в формировании функции ошибки. И так как эти лог-вероятности получены из ИНС, по ним будут формироваться градиенты для обучения ИНС. Несмотря на что выход ИНС - это экземпляр класса `Categorical`, алгоритмы `PyTorch` реализованы так, что все требуемые вычисления будут корректно выполнены."
   ]
  },
  {
   "cell_type": "markdown",
   "id": "d762ad25-fba6-41c6-b9c7-6c3a5c6f12d0",
   "metadata": {},
   "source": [
    "    Прочие оптимизаторы: Adam, RMSProp\n",
    "\n",
    "    Попробовать AdamW"
   ]
  },
  {
   "cell_type": "code",
   "execution_count": null,
   "id": "4e75fed4-dc6a-4e07-9858-2c8b1b147d8a",
   "metadata": {},
   "outputs": [],
   "source": []
  }
 ],
 "metadata": {
  "kernelspec": {
   "display_name": "Python [conda env:base] *",
   "language": "python",
   "name": "conda-base-py"
  },
  "language_info": {
   "codemirror_mode": {
    "name": "ipython",
    "version": 3
   },
   "file_extension": ".py",
   "mimetype": "text/x-python",
   "name": "python",
   "nbconvert_exporter": "python",
   "pygments_lexer": "ipython3",
   "version": "3.12.7"
  }
 },
 "nbformat": 4,
 "nbformat_minor": 5
}
