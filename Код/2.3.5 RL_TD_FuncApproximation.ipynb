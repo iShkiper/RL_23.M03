{
 "cells": [
  {
   "cell_type": "markdown",
   "id": "1d5ecd9c-1790-4190-a502-0518d60f8324",
   "metadata": {},
   "source": [
    "# Методы, основанные на линейном приближении Q-функции"
   ]
  },
  {
   "cell_type": "markdown",
   "id": "fd4ec37d",
   "metadata": {},
   "source": [
    "Рассмотрим методы обучения агента, основанные на приближении значений Q-функции с помощью **линейной параметрической модели**.\n",
    "В качестве управляющего алгоритма будем использовать n-шаговый метод SARSA (но можно использовать и любой другой метод). \n",
    "Для работы модели требуется из пар $(s,a)$ сформировать вектора признаков этой пары $f(s,a)$.\n",
    "Тогда линейная параметрическая модель формирует значения Q-функции $\\widehat{q}(s,a,\\theta)$ в виде скалярного произведение вектора признаков $f(s,a)$ на вектор параметров $\\theta$:\n",
    "\n",
    "$$\\widehat{q}(s,a,\\theta) = \\langle f(s,a), \\theta \\rangle = f(s,a)^T \\theta.$$\n",
    "\n",
    "Необходимо написать новый класс для агента, реализующий вычисление значений Q-функции по линейной параметрической модели и способ обновления параметров по методу градиентного спуска.\n",
    "\n",
    "Вместо Q-таблицы класс агента будет хранить внутри себя вектор параметров. Соответствующим образом надо изменить код для обновления параметров и выбора максимального по ценности действия.\n",
    "\n",
    "Кроме того, для обеспечения модульной структуры кода и чтобы сохранить сигнатуру методов агента (то есть количество и тип аргументов), агент будет принимать класс `featureCoder`, в котором будет прописано, как по паре состояние-действие получить признаки. Как минимум, этот класс должен содержать поле `featureCoder.num_of_features` с числом признаков в векторе признаков. А также метод\n",
    "\n",
    "    `get_features()` для построения вектора признаков по паре состояние-действие.\n",
    "    \n",
    "Для каждой конкретной задачи нужно прописывать свой класс `featureCoder`."
   ]
  },
  {
   "cell_type": "code",
   "execution_count": 3,
   "id": "e3e618b9",
   "metadata": {},
   "outputs": [],
   "source": [
    "import numpy as np\n",
    "\n",
    "class LinearModelAgent:\n",
    "    def __init__(self, env, featureCoder, eps = 0.1, alpha = 0.1):\n",
    "        self.eps = eps               \n",
    "        self.alpha = alpha           # параметр шага обучения\n",
    "        # агент работает для сред с одним набором действий во всех состояниях\n",
    "        self.actions = np.arange(env.action_space.n)\n",
    "        \n",
    "        self.fCoder = featureCoder\n",
    "        # параметры модели\n",
    "        self.theta = np.zeros(featureCoder.num_of_features)\n",
    "\n",
    "    # вычисление Q(s,a)\n",
    "    def get_Q(self, state, action):\n",
    "        feats = self.fCoder.get_features(state, action)\n",
    "        return self.theta @ feats\n",
    "        \n",
    "    # обновление параметров шагом градиентного спуска\n",
    "    def update(self, state, action, target):\n",
    "        feats = self.fCoder.get_features(state, action)\n",
    "        q_s_a = self.theta @ feats\n",
    "        \n",
    "        delta = target - q_s_a\n",
    "        self.theta += self.alpha * delta * feats\n",
    "\n",
    "    # жадное действие в состоянии state\n",
    "    def best_action(self, state):\n",
    "        qvals=[]\n",
    "        for action in self.actions:\n",
    "            qvals.append(self.get_Q(state,action))\n",
    "        return np.argmax(qvals)\n",
    "    \n",
    "    def get_action(self, state):\n",
    "        if np.random.rand() < self.eps:\n",
    "            return np.random.choice(self.actions)\n",
    "        else:\n",
    "            return self.best_action(state)\n",
    "\n",
    "    def play(self, env, n_episodes):\n",
    "        for _ in tqdm(range(n_episodes)):\n",
    "            state, _ = env.reset()\n",
    "            while True:\n",
    "                # выбираем лучшие действия\n",
    "                action = self.best_action(state)\n",
    "                state, reward, terminated, truncated, _ = env.step(action)\n",
    "                if terminated or truncated:\n",
    "                    break"
   ]
  },
  {
   "cell_type": "markdown",
   "id": "ad8ab0eb",
   "metadata": {},
   "source": [
    "Управляющие алгоритмы можно использовать без изменений. Скопируем, например, n-шаговый метод SARSA."
   ]
  },
  {
   "cell_type": "code",
   "execution_count": 1,
   "id": "a2453591-b56a-4fdc-9780-5621427e2005",
   "metadata": {},
   "outputs": [],
   "source": [
    "from tqdm import tqdm\n",
    "\n",
    "# алгоритм обучения, возврат: массив доходов \n",
    "def SARSA_Nstep_control(env, agent, n_episodes=10000, gamma = 1.0, \n",
    "                      eps_start=0.5, eps_decay = 1.0, eps_min = 0.01,\n",
    "                      alpha_start=0.2, alpha_decay = 1.0, alpha_min = 0.01, nstep=10):\n",
    "    n = nstep\n",
    "    agent.eps = eps_start\n",
    "    agent.alpha = alpha_start\n",
    "    \n",
    "    for i in tqdm(range(n_episodes)):\n",
    "        state, _ = env.reset()\n",
    "        action = agent.get_action(state)\n",
    "        T = float('inf')\n",
    "        t = 0\n",
    "        states = [state]\n",
    "        actions = [action]\n",
    "        rewards = [0.0]                \n",
    "        while True:\n",
    "            if t < T:\n",
    "                state, reward, terminated, truncated, _= env.step(action)\n",
    "                states.append(state)\n",
    "                rewards.append(reward)\n",
    "                \n",
    "                if terminated or truncated:\n",
    "                    T = t+1\n",
    "                else:\n",
    "                    next_action = agent.get_action(state)\n",
    "                    actions.append(next_action)\n",
    "\n",
    "            tau = t - n + 1\n",
    "            if tau >= 0:\n",
    "                upd_goal = 0\n",
    "                # сумма от tau+1 до min(tau+n, T)\n",
    "                for i in range(tau+1, min(tau+n, T)+1):\n",
    "                    upd_goal += gamma ** (i-tau-1) * rewards[i]\n",
    "                if tau+n < T:\n",
    "                    upd_goal += gamma**n * agent.get_Q(states[tau+n],actions[tau+n])\n",
    "                agent.update(states[tau], actions[tau], upd_goal)\n",
    "            \n",
    "            if tau == T - 1:\n",
    "                break\n",
    "            else:\n",
    "                t += 1\n",
    "                action = next_action\n",
    "                \n",
    "        # уменьшение доли шагов исследования\n",
    "        agent.eps = max(agent.eps * eps_decay, eps_min)\n",
    "        # уменьшение шага обучения\n",
    "        agent.alpha = max(agent.alpha * alpha_decay, alpha_min)  "
   ]
  },
  {
   "cell_type": "markdown",
   "id": "aa7a5c0c",
   "metadata": {},
   "source": [
    "# Пример 1\n",
    "\n",
    "Рассмотрим задачу о машинке и холме `MountainCar` и применим для решения этой задачи агента, считающего Q-функцию на основе линейной параметрической модели."
   ]
  },
  {
   "cell_type": "code",
   "execution_count": 5,
   "id": "4e242719",
   "metadata": {},
   "outputs": [
    {
     "name": "stdout",
     "output_type": "stream",
     "text": [
      "Начальное состояние:  [-0.5442891  0.       ]\n"
     ]
    }
   ],
   "source": [
    "import gymnasium as gym\n",
    "\n",
    "env = gym.make('MountainCar-v0')\n",
    "state, _ = env.reset()\n",
    "print(\"Начальное состояние: \", state)"
   ]
  },
  {
   "cell_type": "code",
   "execution_count": 9,
   "id": "29f31b8e",
   "metadata": {},
   "outputs": [
    {
     "name": "stdout",
     "output_type": "stream",
     "text": [
      "[-1.2  -0.07]\n",
      "[0.6  0.07]\n"
     ]
    }
   ],
   "source": [
    "print(env.observation_space.low)\n",
    "print(env.observation_space.high)"
   ]
  },
  {
   "cell_type": "markdown",
   "id": "b79f0767",
   "metadata": {},
   "source": [
    "Начальное состояние представляет собой точку в 2D пространстве. Используем плиточное кодирование для формирования признаков состояние.  По сути это будет бинарный массив, где единицы будут соответствовать тем индексам плиток, которые накрывают данную точку. "
   ]
  },
  {
   "cell_type": "markdown",
   "id": "09c03272",
   "metadata": {},
   "source": [
    "##### Подробности плиточного кодирования\n",
    "\n",
    "Класс, реализующий плиточное кодирование, назовём `TileCoder`. \n",
    "\n",
    "    1. Количество покрытий задаётся в `num_of_tilings`.\n",
    "    2. Параллелепипед, где находятся все возможные состояния, передаётся через список `value_limits`.  Этот список состоит из кортежей и имеет вид\n",
    "\n",
    "$$ [(x_{min},x_{max}),(y_{min},y_{max}),...],\n",
    "$$\n",
    "\n",
    "    где $(x_{min},x_{max})$ задаёт интервал где может быть первая координата состояния, $(y_{min},y_{max})$ -- где вторая и т.д. Количество кортежей в списке равно размерности пространства состояний $d$ (в нашем случае $d=2$).\n",
    "\n",
    "    3. Число плиток для каждой размерности задаётся в `tiles_per_dim`. Это список из натуральных чисел, задающих количество плиток на каждую размерность вида $[N_1,...,N_d]$.\n",
    "\n",
    "Сдвиги плиточных покрытий относительно друг друг задаются в `offset`. По умолчанию они имеют вид\n",
    "\n",
    "$$\n",
    "\\left\\{k \\left(\\frac{1}{N_1},\\frac{3}{N_2},...,\\frac{2d-1}{N_d}\\right)\\right\\}, \\quad k=0,...,Num-1,\n",
    "$$\n",
    "где $Num$ - это `num_of_tilings`, то есть количество покрытий.\n",
    "Технически, удобно, чтобы `offset` был от 0 до 1, поэтому берём дробную часть от значений, приведённых выше.\n",
    "\n",
    "Если область допустимых состояний надо накрыть сеткой из $N_1*...*N_d$ плиток, то при ненулевом отступе `offset` по каждой размерности надо добавить ещё одну плитку.\n",
    "\n",
    "Далее, при определении той плитки, куда попало некоторое состояние, мы ищем индексы этой плитки по каждой размерности, а затем эти индексы переводятся в линейный индекс по всем плиткам всех накрытий.\n",
    "\n",
    "Если например `tiles_per_dim` = $[11,11]$ и индекс состояния в первом покрытии $(i_1,i_2)$, $i_1, i_2 = 0,...,10$, то линейный индекс будет равен \n",
    "$L(i_1,i_2) = 1*i_1+11*i_2$.\n",
    "Для формирования линейного индекса во k-ом покрытии к $L(i_1,i_2)$ добавить $121*(k-1)$."
   ]
  },
  {
   "cell_type": "code",
   "execution_count": 11,
   "id": "3e7c7991",
   "metadata": {},
   "outputs": [],
   "source": [
    "import numpy as np\n",
    "\n",
    "class TileCoder:\n",
    "    def __init__(self, tiles_per_dim, value_limits, num_of_tilings, offset=lambda n: 2 * np.arange(n) + 1):\n",
    "        # количество плиток в покрытии\n",
    "        tiling_dims = np.array(np.ceil(tiles_per_dim), dtype=int) + 1\n",
    "        # формирование отступов\n",
    "        self._offsets = offset(len(tiles_per_dim)) * \\\n",
    "          np.repeat([np.arange(num_of_tilings)], len(tiles_per_dim), 0).T / float(num_of_tilings) % 1 \n",
    "        # %1 значит взять по модулю 1, по сути берём дробную часть: 1.5%1 = 0.5\n",
    "        self._limits = np.array(value_limits) \n",
    "        \n",
    "        self._norm_dims = np.array(tiles_per_dim) / (self._limits[:, 1] - self._limits[:, 0])\n",
    "        # _norm_dims величина обратная к размеру плитки\n",
    "        self._tile_base_ind = np.prod(tiling_dims) * np.arange(num_of_tilings)\n",
    "        # _tile_base_ind начальный индекс для покрытия\n",
    "        self._hash_vec = np.array([np.prod(tiling_dims[0:i]) for i in range(len(tiles_per_dim))])\n",
    "        # по сути база для системы счисления\n",
    "        self._n_tiles = num_of_tilings * np.prod(tiling_dims)\n",
    "    \n",
    "    def __getitem__(self, x):\n",
    "        #print((x - self._limits[:, 0]) * self._norm_dims + self._offsets)\n",
    "        off_coords = ((x - self._limits[:, 0]) * self._norm_dims + self._offsets).astype(int)\n",
    "        return self._tile_base_ind + np.dot(off_coords, self._hash_vec)\n",
    "        #a magic method in Python, which when used in a class, allows its instances to use the [] (indexer) operators.\n",
    "\n",
    "    @property\n",
    "    def n_tiles(self):\n",
    "        return self._n_tiles"
   ]
  },
  {
   "cell_type": "markdown",
   "id": "92dfac94-7cd5-4456-87ce-e97799e2bcc8",
   "metadata": {},
   "source": [
    "Тест частей кода:"
   ]
  },
  {
   "cell_type": "code",
   "execution_count": 13,
   "id": "217d81e1",
   "metadata": {},
   "outputs": [
    {
     "name": "stdout",
     "output_type": "stream",
     "text": [
      "[1 3]\n"
     ]
    },
    {
     "data": {
      "text/plain": [
       "array([[0.   , 0.   ],\n",
       "       [0.125, 0.375],\n",
       "       [0.25 , 0.75 ],\n",
       "       [0.375, 0.125],\n",
       "       [0.5  , 0.5  ],\n",
       "       [0.625, 0.875],\n",
       "       [0.75 , 0.25 ],\n",
       "       [0.875, 0.625]])"
      ]
     },
     "execution_count": 13,
     "metadata": {},
     "output_type": "execute_result"
    }
   ],
   "source": [
    "# формирование отступов\n",
    "offset=lambda n: 2 * np.arange(n) + 1\n",
    "print(offset(len([10,10])))\n",
    "offset(len([10,10])) * \\\n",
    "          np.repeat([np.arange(8)], len([10,10]), 0).T / float(8) % 1 "
   ]
  },
  {
   "cell_type": "code",
   "execution_count": 15,
   "id": "3dc84574",
   "metadata": {},
   "outputs": [
    {
     "name": "stdout",
     "output_type": "stream",
     "text": [
      "[[-1.2   0.6 ]\n",
      " [-0.07  0.07]]\n",
      "[ 5.55555533 71.42857112]\n",
      "[  0 121 242 363 484 605 726 847]\n",
      "[ 1 11]\n"
     ]
    }
   ],
   "source": [
    "import gymnasium as gym\n",
    "\n",
    "env = gym.make('MountainCar-v0')\n",
    "tiles_per_dim = [10,10]\n",
    "num_of_tilings=8\n",
    "tiling_dims = np.array(np.ceil(tiles_per_dim), dtype=int) + 1\n",
    "\n",
    "lims = [(env.observation_space.low[0], env.observation_space.high[0]),\n",
    "        (env.observation_space.low[1], env.observation_space.high[1])]\n",
    "limits = np.array(lims) \n",
    "norm_dims = np.array(tiles_per_dim) / (limits[:, 1] - limits[:, 0])\n",
    "tile_base_ind = np.prod(tiling_dims) * np.arange(num_of_tilings)\n",
    "hash_vec = np.array([np.prod(tiling_dims[0:i]) for i in range(len(tiles_per_dim))])\n",
    "print(limits)\n",
    "print(norm_dims)\n",
    "print(tile_base_ind)\n",
    "print(hash_vec)"
   ]
  },
  {
   "cell_type": "markdown",
   "id": "83f5e7ab",
   "metadata": {},
   "source": [
    "Проверим работу плиточного кодирования. Пусть мы используем по 10 плиток на размерность, с учётом добавления одной плитки из-за отступа, итого получим 121 плитку в одном покрытии. Всего будет 8 покрытий."
   ]
  },
  {
   "cell_type": "code",
   "execution_count": 17,
   "id": "6a088a15",
   "metadata": {},
   "outputs": [
    {
     "data": {
      "text/plain": [
       "array([ 58, 179, 300, 421, 542, 664, 785, 906])"
      ]
     },
     "execution_count": 17,
     "metadata": {},
     "output_type": "execute_result"
    }
   ],
   "source": [
    "import gymnasium as gym\n",
    "\n",
    "env = gym.make('MountainCar-v0')\n",
    "\n",
    "tiles_per_dim = [10,10]\n",
    "lims = [(env.observation_space.low[0], env.observation_space.high[0]),\n",
    "        (env.observation_space.low[1], env.observation_space.high[1])]\n",
    "num_of_tilings=8\n",
    "Tcoder = TileCoder(tiles_per_dim, lims, num_of_tilings)\n",
    "\n",
    "state, _ = env.reset()\n",
    "Tcoder[state]"
   ]
  },
  {
   "cell_type": "markdown",
   "id": "f6e60bca",
   "metadata": {},
   "source": [
    "На основе этого класса для плиточного кодирования сделаем класс, который формирует вектор признаков из пар состояние-действие. По сути признаками будет матрица размера `(число признаков состояний, число действий)`. В нашем случае действия 3, а значит три столбца. Для пары $(s,a)$  в столбце индекса $a$ будем формировать бинарный вектор из 0 и 1, где 1 находится на тех индексах, которые вернул TileCoder по состоянию, прочие значению будут равны нулю. \n",
    "\n",
    "Сформированную матрицу вытянем в вектор методом `np.reshape`."
   ]
  },
  {
   "cell_type": "code",
   "execution_count": 19,
   "id": "2b797cef",
   "metadata": {},
   "outputs": [],
   "source": [
    "class FeatureCoder:      \n",
    "    def __init__(self, tiles_per_dim, value_limits, num_of_tilings, nA):\n",
    "        self.Tcoder = TileCoder(tiles_per_dim, lims, num_of_tilings)\n",
    "        self.num_of_features = Tcoder.n_tiles * nA\n",
    "    \n",
    "    def get_features(self, state, action):\n",
    "        pos, vel = (state[0], state[1])\n",
    "        features_ind = [(idx, action) for idx in Tcoder[pos,vel]]\n",
    "        features = np.zeros((Tcoder.n_tiles,3))\n",
    "        for idx in features_ind:\n",
    "            features[idx] = 1\n",
    "        return np.reshape(features,-1)"
   ]
  },
  {
   "cell_type": "markdown",
   "id": "76e13fd1-4f35-4391-a3bc-159ec923b238",
   "metadata": {},
   "source": [
    "Проверим работу этого класса. При выбранных параметрах должен формироваться вектор длины $8*121*3$, в котором 8 штук единиц, а прочие знаения равны нулю."
   ]
  },
  {
   "cell_type": "code",
   "execution_count": 22,
   "id": "ffb9535c",
   "metadata": {},
   "outputs": [
    {
     "data": {
      "text/plain": [
       "(2904,)"
      ]
     },
     "execution_count": 22,
     "metadata": {},
     "output_type": "execute_result"
    }
   ],
   "source": [
    "fCoder = FeatureCoder(tiles_per_dim, lims, num_of_tilings, env.action_space.n)\n",
    "fCoder.get_features(state,0).shape"
   ]
  },
  {
   "cell_type": "code",
   "execution_count": 24,
   "id": "5db4b161",
   "metadata": {},
   "outputs": [
    {
     "data": {
      "text/plain": [
       "<matplotlib.collections.PathCollection at 0x28310cc2990>"
      ]
     },
     "execution_count": 24,
     "metadata": {},
     "output_type": "execute_result"
    },
    {
     "data": {
      "image/png": "[encoded data removed]",
      "text/plain": [
       "<Figure size 600x200 with 1 Axes>"
      ]
     },
     "metadata": {},
     "output_type": "display_data"
    }
   ],
   "source": [
    "import matplotlib.pyplot as plt\n",
    "plt.figure(figsize = (6,2))\n",
    "plt.scatter(range(2904), fCoder.get_features(state,0))"
   ]
  },
  {
   "cell_type": "markdown",
   "id": "8d29b01f",
   "metadata": {},
   "source": [
    "#### Обучение агента\n",
    "\n",
    "Теперь всё готово для обучения агента."
   ]
  },
  {
   "cell_type": "code",
   "execution_count": 26,
   "id": "e70e0438",
   "metadata": {},
   "outputs": [
    {
     "name": "stderr",
     "output_type": "stream",
     "text": [
      "100%|██████████████████████████████████████████████████████████████████████████████| 2000/2000 [00:47<00:00, 42.37it/s]\n"
     ]
    }
   ],
   "source": [
    "env = gym.make('MountainCar-v0')\n",
    "n_episodes = 2000\n",
    "env = gym.wrappers.RecordEpisodeStatistics(env, n_episodes)\n",
    "\n",
    "agent = LinearModelAgent(env, fCoder)\n",
    "\n",
    "# обучение агента и получение доходов по эпизодам\n",
    "gains = SARSA_Nstep_control(env, agent, n_episodes = 2000, gamma=0.99,\n",
    "                              eps_start=1.0, eps_decay = 0.993, eps_min = 0.001, \n",
    "                              alpha_start=0.05, alpha_decay = 0.993, alpha_min = 0.01, nstep=10)"
   ]
  },
  {
   "cell_type": "code",
   "execution_count": 32,
   "id": "671267c8",
   "metadata": {},
   "outputs": [],
   "source": [
    "import matplotlib.pyplot as plt\n",
    "# для того, чтобы избежать ошибок при построении графиков\n",
    "import os\n",
    "os.environ[\"KMP_DUPLICATE_LIB_OK\"]=\"TRUE\"\n",
    "\n",
    "# в названии графика среднее вознаграждение за 20 последних эпизодов\n",
    "def plot_rewards(env_name, returns, label):\n",
    "    fig = plt.figure(figsize=(16, 4))\n",
    "    plt.title(\"Среда: \"+env_name+\", Средний доход за последние 20 эпизодов = \"+str(np.mean(returns[-20:])))\n",
    "    plt.plot(returns, label=label)\n",
    "    plt.grid()\n",
    "    plt.legend()\n",
    "    plt.ylim(-500, 0)\n",
    "    plt.show()"
   ]
  },
  {
   "cell_type": "code",
   "execution_count": 34,
   "id": "46e428e4",
   "metadata": {},
   "outputs": [
    {
     "data": {
      "image/png": "[encoded data removed]",
      "text/plain": [
       "<Figure size 1600x400 with 1 Axes>"
      ]
     },
     "metadata": {},
     "output_type": "display_data"
    }
   ],
   "source": [
    "# график доходов\n",
    "returns = np.array(env.return_queue)\n",
    "plot_rewards('MountainCar-v0', returns, 'N-step SARSA')"
   ]
  },
  {
   "cell_type": "markdown",
   "id": "eaf67e34",
   "metadata": {},
   "source": [
    "Как видно из графика доходов, полученных в ходе обучения, уже к 500 эпизоду агент обучился хорошей стратегии."
   ]
  },
  {
   "cell_type": "code",
   "execution_count": 40,
   "id": "0cde3272",
   "metadata": {},
   "outputs": [
    {
     "data": {
      "text/plain": [
       "0.601732923716794"
      ]
     },
     "execution_count": 40,
     "metadata": {},
     "output_type": "execute_result"
    }
   ],
   "source": [
    "np.max(agent.theta)"
   ]
  },
  {
   "cell_type": "markdown",
   "id": "36ef6653",
   "metadata": {},
   "source": [
    "Ниже можно запустить 100 эпизодов симуляции работы обученного агента."
   ]
  },
  {
   "cell_type": "code",
   "execution_count": 42,
   "id": "465f6c26",
   "metadata": {},
   "outputs": [
    {
     "name": "stderr",
     "output_type": "stream",
     "text": [
      "100%|████████████████████████████████████████████████████████████████████████████████| 100/100 [00:01<00:00, 89.61it/s]"
     ]
    },
    {
     "name": "stdout",
     "output_type": "stream",
     "text": [
      "Средний доход:  -102.13\n",
      "Минимальный доход:  -116.0\n"
     ]
    },
    {
     "name": "stderr",
     "output_type": "stream",
     "text": [
      "\n"
     ]
    }
   ],
   "source": [
    "# создание экземпляра среды\n",
    "env = gym.make('MountainCar-v0')\n",
    "env = gym.wrappers.RecordEpisodeStatistics(env)\n",
    "\n",
    "agent.play(env, 100)\n",
    "print(\"Средний доход: \", np.mean(env.return_queue))\n",
    "print(\"Минимальный доход: \", np.min(env.return_queue))"
   ]
  },
  {
   "cell_type": "code",
   "execution_count": 48,
   "id": "4ba954f0-2975-46d3-806a-1fffe45ea643",
   "metadata": {},
   "outputs": [
    {
     "name": "stderr",
     "output_type": "stream",
     "text": [
      "100%|████████████████████████████████████████████████████████████████████████████████████| 1/1 [00:03<00:00,  3.59s/it]"
     ]
    },
    {
     "name": "stdout",
     "output_type": "stream",
     "text": [
      "Число шагов: -104.0\n"
     ]
    },
    {
     "name": "stderr",
     "output_type": "stream",
     "text": [
      "\n"
     ]
    }
   ],
   "source": [
    "# создание экземпляра среды\n",
    "env = gym.make('MountainCar-v0', render_mode='human')\n",
    "env = gym.wrappers.RecordEpisodeStatistics(env)\n",
    "\n",
    "agent.play(env, 1)\n",
    "print(\"Число шагов:\", env.return_queue[-1])\n",
    "env.close()"
   ]
  },
  {
   "cell_type": "code",
   "execution_count": null,
   "id": "c2033e76-0438-4f78-b70b-2c270d96f364",
   "metadata": {},
   "outputs": [],
   "source": []
  }
 ],
 "metadata": {
  "kernelspec": {
   "display_name": "Python [conda env:base] *",
   "language": "python",
   "name": "conda-base-py"
  },
  "language_info": {
   "codemirror_mode": {
    "name": "ipython",
    "version": 3
   },
   "file_extension": ".py",
   "mimetype": "text/x-python",
   "name": "python",
   "nbconvert_exporter": "python",
   "pygments_lexer": "ipython3",
   "version": "3.12.7"
  }
 },
 "nbformat": 4,
 "nbformat_minor": 5
}
